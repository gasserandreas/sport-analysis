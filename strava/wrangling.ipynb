{
 "cells": [
  {
   "cell_type": "markdown",
   "metadata": {},
   "source": [
    "# Data Wrangling for Strava Data"
   ]
  },
  {
   "cell_type": "code",
   "execution_count": 22,
   "metadata": {},
   "outputs": [],
   "source": [
    "import pandas as pd\n",
    "import numpy as np\n",
    "import json\n",
    "import os\n"
   ]
  },
  {
   "cell_type": "markdown",
   "metadata": {},
   "source": [
    "## Define base constants\n",
    "\n",
    "Let's define simple converter function to parse and convert activity json objects"
   ]
  },
  {
   "cell_type": "code",
   "execution_count": 23,
   "metadata": {},
   "outputs": [],
   "source": [
    "PWD: str = \"/Users/andreasliistro/Documents/Development/Projects/sport-analysis\"\n",
    "PATH: str = f\"{PWD}/strava/data/private/\""
   ]
  },
  {
   "cell_type": "code",
   "execution_count": 172,
   "metadata": {},
   "outputs": [],
   "source": [
    "def get_lat_lng_value(data: dict, key: str, index: int) -> float:\n",
    "  value = data[key]\n",
    "  if (len(value) == 0): return None\n",
    "  if (len(value) -1 < index): return None\n",
    "  return value[index]\n",
    "\n",
    "'''\n",
    "  Load activity data from JSON file and parse / convert data into\n",
    "  single row DataFrame.\n",
    "''' \n",
    "def parse_activity(data: dict) -> pd.DataFrame:\n",
    "  SUPPORTED_TYPES = ['Ride', 'EBikeRide']\n",
    "\n",
    "  if (data['type'] not in SUPPORTED_TYPES):\n",
    "    return None\n",
    "\n",
    "  # data properties we want to keep\n",
    "  keys = ['id',\n",
    "    'name',\n",
    "    'distance',\n",
    "    'moving_time',\n",
    "    'elapsed_time',\n",
    "    'total_elevation_gain',\n",
    "    'type',\n",
    "    'sport_type',\n",
    "    'workout_type',\n",
    "    'start_date',\n",
    "    'start_date_local',\n",
    "    'timezone',\n",
    "    'utc_offset',\n",
    "    'location_city',\n",
    "    'location_state',\n",
    "    'location_country',\n",
    "    'achievement_count',\n",
    "    'kudos_count',\n",
    "    'comment_count',\n",
    "    'athlete_count',\n",
    "    'photo_count',\n",
    "    'trainer',\n",
    "    'commute',\n",
    "    'manual',\n",
    "    'private',\n",
    "    'visibility',\n",
    "    'flagged',\n",
    "    'gear_id',\n",
    "    'average_speed',\n",
    "    'max_speed',\n",
    "    'average_temp',\n",
    "    'average_watts',\n",
    "    'kilojoules',\n",
    "    'device_watts',\n",
    "    'has_heartrate',\n",
    "    'heartrate_opt_out',\n",
    "    'elev_high',\n",
    "    'elev_low',\n",
    "    'upload_id',\n",
    "    'pr_count']\n",
    "  data_dict = {key: data.get(key, None) for key in keys}\n",
    "\n",
    "  data_dict['athlete_id'] = data['athlete']\n",
    "  data_dict['map_id'] = data.get('map', {}).get('id', None)\n",
    "  data_dict['start_lat'] = get_lat_lng_value(data, 'start_latlng', 0)\n",
    "  data_dict['start_lng'] = get_lat_lng_value(data, 'start_latlng', 1)\n",
    "  data_dict['end_lat'] = get_lat_lng_value(data, 'end_latlng', 0)\n",
    "  data_dict['end_lng'] = get_lat_lng_value(data, 'end_latlng', 1)\n",
    "\n",
    "  return pd.DataFrame([pd.Series(data_dict)])"
   ]
  },
  {
   "cell_type": "markdown",
   "metadata": {},
   "source": [
    "## Load first activity for testing"
   ]
  },
  {
   "cell_type": "code",
   "execution_count": 236,
   "metadata": {},
   "outputs": [
    {
     "name": "stdout",
     "output_type": "stream",
     "text": [
      "(1, 46)\n",
      "           id            name  distance  moving_time  elapsed_time  \\\n",
      "0  7522108142  Afternoon Ride   25571.3         4141          5393   \n",
      "\n",
      "   total_elevation_gain  type sport_type  workout_type            start_date  \\\n",
      "0                 333.7  Ride       Ride             0  2022-07-24T15:10:23Z   \n",
      "\n",
      "   ... elev_high elev_low   upload_id pr_count  \\\n",
      "0  ...     553.8    287.7  8020355592        0   \n",
      "\n",
      "                               athlete_id       map_id  start_lat  start_lng  \\\n",
      "0  {'id': 106018162, 'resource_state': 1}  a7522108142   47.50441   8.026813   \n",
      "\n",
      "    end_lat  end_lng  \n",
      "0  47.50402  8.02637  \n",
      "\n",
      "[1 rows x 46 columns]\n"
     ]
    }
   ],
   "source": [
    "# test for sigle activity\n",
    "file_path: str = f\"{PATH}raw/activities/7522108142.json\"\n",
    "\n",
    "with open(file_path, 'r') as f:\n",
    "  # load json data\n",
    "  data = json.load(f)\n",
    "\n",
    "  df = parse_activity(data)\n",
    "  print(df.shape)\n",
    "  print(df.head())"
   ]
  },
  {
   "cell_type": "markdown",
   "metadata": {},
   "source": [
    "# Load all activities and combine into single DataFrame\n",
    "\n",
    "Let's iterate over all files in dictionary and build one dataframe from all data"
   ]
  },
  {
   "cell_type": "code",
   "execution_count": 175,
   "metadata": {},
   "outputs": [
    {
     "name": "stdout",
     "output_type": "stream",
     "text": [
      "(107, 46) \n",
      "\n",
      "                 id       distance   moving_time  elapsed_time  \\\n",
      "count  1.070000e+02     107.000000    107.000000    107.000000   \n",
      "mean   8.929347e+09   31850.266355   4843.074766   7199.168224   \n",
      "std    1.096973e+09   18383.889405   2737.241287   5105.172622   \n",
      "min    7.522108e+09       0.000000    848.000000   1136.000000   \n",
      "25%    7.771832e+09   19157.200000   2618.500000   3001.500000   \n",
      "50%    9.159410e+09   30138.100000   4629.000000   6290.000000   \n",
      "75%    9.720977e+09   42874.850000   6561.000000   9805.000000   \n",
      "max    1.092471e+10  102158.000000  16581.000000  24660.000000   \n",
      "\n",
      "       total_elevation_gain   utc_offset  achievement_count  kudos_count  \\\n",
      "count            107.000000   107.000000         107.000000   107.000000   \n",
      "mean             291.473832  5887.850467           5.981308     0.672897   \n",
      "std              227.394569  2062.271613           7.522270     0.939447   \n",
      "min                0.000000     0.000000           0.000000     0.000000   \n",
      "25%              152.250000  3600.000000           0.000000     0.000000   \n",
      "50%              259.200000  7200.000000           3.000000     0.000000   \n",
      "75%              328.250000  7200.000000          10.000000     1.000000   \n",
      "max             1302.000000  7200.000000          38.000000     3.000000   \n",
      "\n",
      "       comment_count  athlete_count  ...  average_watts   kilojoules  \\\n",
      "count      107.00000     107.000000  ...     101.000000   101.000000   \n",
      "mean         0.11215       1.093458  ...     145.256436   704.233663   \n",
      "std          0.55503       0.323096  ...      38.831215   416.756601   \n",
      "min          0.00000       1.000000  ...      80.100000   130.900000   \n",
      "25%          0.00000       1.000000  ...     120.400000   388.200000   \n",
      "50%          0.00000       1.000000  ...     142.900000   617.100000   \n",
      "75%          0.00000       1.000000  ...     160.500000   884.600000   \n",
      "max          4.00000       3.000000  ...     285.600000  2266.700000   \n",
      "\n",
      "         elev_high     elev_low     upload_id    pr_count   start_lat  \\\n",
      "count   102.000000   102.000000  1.070000e+02  107.000000  102.000000   \n",
      "mean    463.969608   300.516667  9.557984e+09    2.214953   47.498253   \n",
      "std     249.491112    91.716756  1.185373e+09    4.037625    0.130636   \n",
      "min     304.800000   247.000000  8.020356e+09    0.000000   46.804398   \n",
      "25%     359.400000   277.700000  8.300099e+09    0.000000   47.504280   \n",
      "50%     373.100000   287.600000  9.827490e+09    1.000000   47.504440   \n",
      "75%     516.625000   292.050000  1.042180e+10    2.500000   47.551780   \n",
      "max    2575.400000  1140.800000  1.168139e+10   22.000000   47.575256   \n",
      "\n",
      "        start_lng     end_lat     end_lng  \n",
      "count  102.000000  102.000000  102.000000  \n",
      "mean     7.902865   47.487107    7.973564  \n",
      "std      0.284522    0.128244    0.250086  \n",
      "min      6.738317   46.804657    6.738938  \n",
      "25%      7.816254   47.504185    8.026108  \n",
      "50%      8.026144   47.504218    8.026285  \n",
      "75%      8.026283   47.504305    8.026322  \n",
      "max      9.233301   47.564107    9.281977  \n",
      "\n",
      "[8 rows x 23 columns] \n",
      "\n"
     ]
    },
    {
     "name": "stderr",
     "output_type": "stream",
     "text": [
      "/var/folders/62/d9_dj8bd7ss0m8nwdp6klbrr0000gn/T/ipykernel_3951/3884079779.py:22: FutureWarning: The behavior of DataFrame concatenation with empty or all-NA entries is deprecated. In a future version, this will no longer exclude empty or all-NA columns when determining the result dtypes. To retain the old behavior, exclude the relevant entries before the concat operation.\n",
      "  df_activities = pd.concat([df_activities, df], axis=0, ignore_index=True)\n"
     ]
    }
   ],
   "source": [
    "directory: str = f\"{PATH}raw/activities\"\n",
    "\n",
    "df_activities = pd.DataFrame()\n",
    "\n",
    "for filename in os.listdir(directory):\n",
    "  if filename.endswith(\".json\"):\n",
    "    file_path = f\"{directory}/{filename}\"\n",
    "    with open(file_path, 'r') as f:\n",
    "      # load json data\n",
    "      data = json.load(f)\n",
    "      # parse data into DataFrame\n",
    "      df = parse_activity(data)\n",
    "\n",
    "      # skip if df is None\n",
    "      if df is None:\n",
    "        continue\n",
    "\n",
    "      df_activities = pd.concat([df_activities, df], axis=0, ignore_index=True)\n",
    "\n",
    "      f.close()\n",
    "\n",
    "print(df_activities.head(), '\\n')\n",
    "print(df_activities.shape, '\\n')\n",
    "print(df_activities.describe(), '\\n')\n",
    "      "
   ]
  },
  {
   "cell_type": "markdown",
   "metadata": {},
   "source": [
    "### Store data as csv data"
   ]
  },
  {
   "cell_type": "code",
   "execution_count": 178,
   "metadata": {},
   "outputs": [],
   "source": [
    "# create csv from DataFrame and store in data folder\n",
    "df_activities.to_csv(f\"{PATH}activities.csv\", index=False)"
   ]
  },
  {
   "cell_type": "markdown",
   "metadata": {},
   "source": [
    "## Work with stream data\n",
    "\n",
    "Now let's work with stream data and create individual stream.csv files for each stream download"
   ]
  },
  {
   "cell_type": "code",
   "execution_count": 261,
   "metadata": {},
   "outputs": [],
   "source": [
    "def parse_stream(data: dict) -> pd.DataFrame:\n",
    "  # create simple df\n",
    "  df = pd.DataFrame(data)\n",
    "\n",
    "  # move last column to be first column\n",
    "  df = df[ ['time'] + [ col for col in df.columns if col != 'time' ] ]\n",
    "\n",
    "  if ('latlng' in df.columns):\n",
    "    df['lat'] = df['latlng'].apply(lambda x: x[0])\n",
    "    df['lng'] = df['latlng'].apply(lambda x: x[1])\n",
    "\n",
    "    # drop latlng column\n",
    "    df = df.drop('latlng', axis=1)\n",
    "\n",
    "  # # convert latlng in to separate columns\n",
    "  # df['lat'] = df['latlng'].apply(lambda x: x[0])\n",
    "  # df['lng'] = df['latlng'].apply(lambda x: x[1])\n",
    "\n",
    "  return df"
   ]
  },
  {
   "cell_type": "markdown",
   "metadata": {},
   "source": [
    "## Work with single Stream file for testing"
   ]
  },
  {
   "cell_type": "code",
   "execution_count": 241,
   "metadata": {},
   "outputs": [
    {
     "name": "stdout",
     "output_type": "stream",
     "text": [
      "(3626, 8) \n",
      "\n",
      "   time  moving                 latlng  velocity_smooth  grade_smooth  \\\n",
      "0     0   False   [47.50441, 8.026813]            0.000           0.8   \n",
      "1     2    True   [47.50447, 8.026946]            3.026           0.6   \n",
      "2     3    True  [47.504494, 8.027005]            4.011           0.5   \n",
      "3     4    True  [47.504493, 8.027016]            4.309          -4.2   \n",
      "4     7    True   [47.50449, 8.027079]            2.867          -4.4   \n",
      "\n",
      "   distance  altitude  heartrate  \n",
      "0       0.0     357.9         77  \n",
      "1       6.1     358.0         77  \n",
      "2      12.0     358.0         77  \n",
      "3      17.2     358.0         77  \n",
      "4      20.4     358.0         80   \n",
      "\n"
     ]
    }
   ],
   "source": [
    "# test for sigle activity\n",
    "file_path: str = f\"{PATH}raw/streams/7522108142.json\"\n",
    "\n",
    "with open(file_path, 'r') as f:\n",
    "  # load json data\n",
    "  data = json.load(f)\n",
    "  dict = { obj['type']: obj['data'] for obj in data }\n",
    "\n",
    "  df = parse_stream(dict)\n",
    "  print(df.shape, '\\n')\n",
    "  print(df.head(), '\\n')"
   ]
  },
  {
   "cell_type": "markdown",
   "metadata": {},
   "source": [
    "## Convert all streams files\n",
    "\n",
    "Go through all files, convert and store as csv files"
   ]
  },
  {
   "cell_type": "code",
   "execution_count": 262,
   "metadata": {},
   "outputs": [],
   "source": [
    "directory: str = f\"{PATH}raw/streams\"\n",
    "\n",
    "for index, row in df_activities.iterrows():\n",
    "  # print(row['id'])\n",
    "  id = row['id']\n",
    "  file_path = f\"{directory}/{id}.json\"\n",
    "\n",
    "  with open(file_path, 'r') as f:\n",
    "    # load json data\n",
    "    data = json.load(f)\n",
    "    dict = { obj['type']: obj['data'] for obj in data }\n",
    "\n",
    "    df = parse_stream(dict)\n",
    "    df.to_csv(f\"{PATH}streams/{id}.csv\", index=False)\n",
    "\n",
    "    f.close()"
   ]
  },
  {
   "cell_type": "code",
   "execution_count": null,
   "metadata": {},
   "outputs": [],
   "source": []
  }
 ],
 "metadata": {
  "kernelspec": {
   "display_name": "Python 3 (ipykernel)",
   "language": "python",
   "name": "python3"
  },
  "language_info": {
   "codemirror_mode": {
    "name": "ipython",
    "version": 3
   },
   "file_extension": ".py",
   "mimetype": "text/x-python",
   "name": "python",
   "nbconvert_exporter": "python",
   "pygments_lexer": "ipython3",
   "version": "3.11.6"
  }
 },
 "nbformat": 4,
 "nbformat_minor": 2
}
